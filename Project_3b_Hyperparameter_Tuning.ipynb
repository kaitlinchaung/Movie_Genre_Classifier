{
 "cells": [
  {
   "cell_type": "code",
   "execution_count": 75,
   "metadata": {},
   "outputs": [],
   "source": [
    "import pandas as pd\n",
    "import numpy as np\n",
    "import re\n",
    "import seaborn as sns\n",
    "import matplotlib.pyplot as plt\n",
    "import multiprocessing\n",
    "import time\n",
    "import textwrap\n",
    "import pickle\n",
    "import scipy.stats as stats\n",
    "import xgboost as xgb\n",
    "from bs4 import BeautifulSoup\n",
    "from tqdm import tqdm\n",
    "tqdm.pandas(desc=\"progress-bar\")\n",
    "from scipy import spatial\n",
    "from textblob import TextBlob, Word, Blobber\n",
    "from scipy import spatial\n",
    "from textblob import TextBlob, Word, Blobber\n",
    "from imblearn.over_sampling import SMOTE\n",
    "from imblearn.pipeline import make_pipeline\n",
    "\n",
    "import gensim\n",
    "from gensim.models import Doc2Vec\n",
    "from gensim.models.doc2vec import Doc2Vec, TaggedDocument\n",
    "\n",
    "from sklearn import utils\n",
    "from sklearn.utils.fixes import loguniform\n",
    "from sklearn.model_selection import train_test_split, StratifiedKFold, cross_val_score, GridSearchCV\n",
    "from sklearn.metrics import f1_score, accuracy_score, classification_report, confusion_matrix, precision_score, roc_curve,auc, recall_score\n",
    "from sklearn.linear_model import SGDClassifier, LogisticRegression\n",
    "from sklearn.tree import DecisionTreeClassifier\n",
    "from sklearn.ensemble import RandomForestRegressor, RandomForestClassifier\n",
    "from sklearn.naive_bayes import GaussianNB\n",
    "from sklearn.model_selection import RandomizedSearchCV\n",
    "\n",
    "import nltk\n",
    "from nltk.tokenize import word_tokenize\n",
    "from nltk.corpus import stopwords\n",
    "\n",
    "import multiprocessing\n",
    "cores = multiprocessing.cpu_count()\n",
    "\n",
    "fontname = 'Montserrat-Regular.ttf'\n",
    "from matplotlib import font_manager as fm"
   ]
  },
  {
   "cell_type": "markdown",
   "metadata": {},
   "source": [
    "## Notebook to determine the best doc2vec algorithm to use on script data"
   ]
  },
  {
   "cell_type": "code",
   "execution_count": 4,
   "metadata": {},
   "outputs": [],
   "source": [
    "def cleanText(text):\n",
    "    \"\"\"\n",
    "    Cleans text for doc2vec\n",
    "    \"\"\"\n",
    "    text = BeautifulSoup(text, \"lxml\").text\n",
    "    text = re.sub(r'\\|\\|\\|', r' ', text) \n",
    "    text = text.lower()\n",
    "    text = text.replace('x', '')\n",
    "    return text"
   ]
  },
  {
   "cell_type": "code",
   "execution_count": 8,
   "metadata": {},
   "outputs": [],
   "source": [
    "from nltk.corpus import stopwords\n",
    "def tokenize_text(text):\n",
    "    tokens = []\n",
    "    for sent in nltk.sent_tokenize(text):\n",
    "        for word in nltk.word_tokenize(sent):\n",
    "            if len(word) < 2:\n",
    "                continue\n",
    "            tokens.append(word.lower())\n",
    "    return tokens"
   ]
  },
  {
   "cell_type": "code",
   "execution_count": 13,
   "metadata": {},
   "outputs": [],
   "source": [
    "def vec_for_learning(model, tagged_docs):\n",
    "    sents = tagged_docs.values\n",
    "    targets, regressors = zip(*[(doc.tags[0], model.infer_vector(doc.words, steps=20)) for doc in sents])\n",
    "    return targets, regressors"
   ]
  },
  {
   "cell_type": "code",
   "execution_count": 14,
   "metadata": {},
   "outputs": [],
   "source": [
    "def get_feature_vector(train_tagged, test_tagged, dm):\n",
    "    \"\"\"\n",
    "    Build model and vocabulary\n",
    "    \"\"\"\n",
    "    if dm == 'dbow':\n",
    "        model = Doc2Vec(dm=0, vector_size=300, negative=5, hs=0, min_count=2, sample = 0, workers=cores)\n",
    "        model.build_vocab([x for x in tqdm(train_tagged.values)])\n",
    "    elif dm == 'dmm':\n",
    "        model = Doc2Vec(dm=1, dm_mean=1, vector_size=300, window=10, negative=5, min_count=1, workers=cores, alpha=0.065, min_alpha=0.065)\n",
    "        model.build_vocab([x for x in tqdm(train_tagged.values)])  \n",
    "    \"\"\"\n",
    "    Train model\n",
    "    \"\"\"\n",
    "    for epoch in range(30):\n",
    "        model.train(utils.shuffle([x for x in tqdm(train_tagged.values)]), total_examples=len(train_tagged.values), epochs=1)\n",
    "        model.alpha -= 0.002\n",
    "        model.min_alpha = model.alpha\n",
    "    \"\"\"\n",
    "    Build feature vectors\n",
    "    \"\"\"\n",
    "    y_train, X_train = vec_for_learning(model, train_tagged)\n",
    "    y_test, X_test = vec_for_learning(model, test_tagged)\n",
    "    \"\"\"\n",
    "    Return feature vectors\n",
    "    \"\"\"\n",
    "    return X_train, X_test, y_train, y_test, model"
   ]
  },
  {
   "cell_type": "markdown",
   "metadata": {},
   "source": [
    "Read in data and clean."
   ]
  },
  {
   "cell_type": "code",
   "execution_count": 2,
   "metadata": {},
   "outputs": [],
   "source": [
    "data = pd.read_csv('cleaned_moviedataset.csv')\n",
    "\n",
    "data = data[['Scripts','new_genres']]\n",
    "data.columns = ['Scripts','Genres']"
   ]
  },
  {
   "cell_type": "code",
   "execution_count": 5,
   "metadata": {},
   "outputs": [],
   "source": [
    "data.Scripts = data.Scripts.apply(cleanText)"
   ]
  },
  {
   "cell_type": "markdown",
   "metadata": {},
   "source": [
    "Split into test and train."
   ]
  },
  {
   "cell_type": "code",
   "execution_count": 6,
   "metadata": {},
   "outputs": [],
   "source": [
    "train, test = train_test_split(data, test_size=0.2, random_state=42, stratify=data.Genres)\n",
    "train_index = pd.Series(train.index)\n",
    "test_index = pd.Series(test.index)"
   ]
  },
  {
   "cell_type": "markdown",
   "metadata": {},
   "source": [
    "Tag test and train data to feed into doc2vec, using both DM and DBOW algorithms."
   ]
  },
  {
   "cell_type": "code",
   "execution_count": 9,
   "metadata": {},
   "outputs": [],
   "source": [
    "train_tagged_scripts = train.apply(\n",
    "    lambda r: TaggedDocument(words=tokenize_text(r['Scripts']), tags=[r.Genres]), axis=1)\n",
    "test_tagged_scripts = test.apply(\n",
    "    lambda r: TaggedDocument(words=tokenize_text(r['Scripts']), tags=[r.Genres]), axis=1)"
   ]
  },
  {
   "cell_type": "markdown",
   "metadata": {},
   "source": [
    "Get vectors for train and test data."
   ]
  },
  {
   "cell_type": "code",
   "execution_count": 15,
   "metadata": {
    "collapsed": true,
    "jupyter": {
     "outputs_hidden": true
    }
   },
   "outputs": [
    {
     "name": "stderr",
     "output_type": "stream",
     "text": [
      "100%|██████████| 2640/2640 [00:00<00:00, 580556.94it/s]\n",
      "100%|██████████| 2640/2640 [00:00<00:00, 184863.64it/s]\n",
      "100%|██████████| 2640/2640 [00:00<00:00, 1161540.18it/s]\n",
      "100%|██████████| 2640/2640 [00:00<00:00, 1113980.14it/s]\n",
      "100%|██████████| 2640/2640 [00:00<00:00, 1032925.61it/s]\n",
      "100%|██████████| 2640/2640 [00:00<00:00, 1067788.10it/s]\n",
      "100%|██████████| 2640/2640 [00:00<00:00, 1074314.79it/s]\n",
      "100%|██████████| 2640/2640 [00:00<00:00, 1022434.22it/s]\n",
      "100%|██████████| 2640/2640 [00:00<00:00, 1247095.68it/s]\n",
      "100%|██████████| 2640/2640 [00:00<00:00, 1223937.50it/s]\n",
      "100%|██████████| 2640/2640 [00:00<00:00, 1229236.52it/s]\n",
      "100%|██████████| 2640/2640 [00:00<00:00, 1098508.19it/s]\n",
      "100%|██████████| 2640/2640 [00:00<00:00, 1090287.77it/s]\n",
      "100%|██████████| 2640/2640 [00:00<00:00, 1086116.97it/s]\n",
      "100%|██████████| 2640/2640 [00:00<00:00, 1230192.49it/s]\n",
      "100%|██████████| 2640/2640 [00:00<00:00, 253780.77it/s]\n",
      "100%|██████████| 2640/2640 [00:00<00:00, 983127.28it/s]\n",
      "100%|██████████| 2640/2640 [00:00<00:00, 1082612.69it/s]\n",
      "100%|██████████| 2640/2640 [00:00<00:00, 1073689.77it/s]\n",
      "100%|██████████| 2640/2640 [00:00<00:00, 1058803.08it/s]\n",
      "100%|██████████| 2640/2640 [00:00<00:00, 1081977.97it/s]\n",
      "100%|██████████| 2640/2640 [00:00<00:00, 1240251.18it/s]\n",
      "100%|██████████| 2640/2640 [00:00<00:00, 1154034.66it/s]\n",
      "100%|██████████| 2640/2640 [00:00<00:00, 1243733.86it/s]\n",
      "100%|██████████| 2640/2640 [00:00<00:00, 1261588.53it/s]\n",
      "100%|██████████| 2640/2640 [00:00<00:00, 975849.35it/s]\n",
      "100%|██████████| 2640/2640 [00:00<00:00, 1222451.15it/s]\n",
      "100%|██████████| 2640/2640 [00:00<00:00, 1077555.72it/s]\n",
      "100%|██████████| 2640/2640 [00:00<00:00, 981819.70it/s]\n",
      "100%|██████████| 2640/2640 [00:00<00:00, 1232246.00it/s]\n",
      "100%|██████████| 2640/2640 [00:00<00:00, 1064298.59it/s]\n",
      "100%|██████████| 2640/2640 [00:00<00:00, 2042982.02it/s]\n",
      "100%|██████████| 2640/2640 [00:00<00:00, 2199634.99it/s]\n",
      "100%|██████████| 2640/2640 [00:00<00:00, 1861314.94it/s]\n",
      "100%|██████████| 2640/2640 [00:00<00:00, 2118011.20it/s]\n",
      "100%|██████████| 2640/2640 [00:00<00:00, 1934817.85it/s]\n",
      "100%|██████████| 2640/2640 [00:00<00:00, 2213707.03it/s]\n",
      "100%|██████████| 2640/2640 [00:00<00:00, 2108332.55it/s]\n",
      "100%|██████████| 2640/2640 [00:00<00:00, 1846416.97it/s]\n",
      "100%|██████████| 2640/2640 [00:00<00:00, 2118011.20it/s]\n",
      "100%|██████████| 2640/2640 [00:00<00:00, 2011072.02it/s]\n",
      "100%|██████████| 2640/2640 [00:00<00:00, 2182294.55it/s]\n",
      "100%|██████████| 2640/2640 [00:00<00:00, 1950839.07it/s]\n",
      "100%|██████████| 2640/2640 [00:00<00:00, 1609910.23it/s]\n",
      "100%|██████████| 2640/2640 [00:00<00:00, 1963639.40it/s]\n",
      "100%|██████████| 2640/2640 [00:00<00:00, 1869485.49it/s]\n",
      "100%|██████████| 2640/2640 [00:00<00:00, 2221701.96it/s]\n",
      "100%|██████████| 2640/2640 [00:00<00:00, 1996207.42it/s]\n",
      "100%|██████████| 2640/2640 [00:00<00:00, 2190497.04it/s]\n",
      "100%|██████████| 2640/2640 [00:00<00:00, 2159314.07it/s]\n",
      "100%|██████████| 2640/2640 [00:00<00:00, 2167768.71it/s]\n",
      "100%|██████████| 2640/2640 [00:00<00:00, 2111548.92it/s]\n",
      "100%|██████████| 2640/2640 [00:00<00:00, 1985113.40it/s]\n",
      "100%|██████████| 2640/2640 [00:00<00:00, 2223933.03it/s]\n",
      "100%|██████████| 2640/2640 [00:00<00:00, 2221701.96it/s]\n",
      "100%|██████████| 2640/2640 [00:00<00:00, 1990108.30it/s]\n",
      "100%|██████████| 2640/2640 [00:00<00:00, 2265336.04it/s]\n",
      "100%|██████████| 2640/2640 [00:00<00:00, 1202537.20it/s]\n",
      "100%|██████████| 2640/2640 [00:00<00:00, 1910119.47it/s]\n",
      "100%|██████████| 2640/2640 [00:00<00:00, 2155530.96it/s]\n",
      "100%|██████████| 2640/2640 [00:00<00:00, 2219475.36it/s]\n",
      "100%|██████████| 2640/2640 [00:00<00:00, 2276981.81it/s]\n"
     ]
    }
   ],
   "source": [
    "X_train_scripts_dbow,X_test_scripts_dbow,y_train_scripts_dbow,y_test_scripts_dbow,model_scripts_dbow = get_feature_vector(train_tagged_scripts, test_tagged_scripts, \"dbow\")\n",
    "\n",
    "X_train_scripts_dmm,X_test_scripts_dmm,y_train_scripts_dmm,y_test_scripts_dmm, model_scripts_dmm = get_feature_vector(train_tagged_scripts, test_tagged_scripts, \"dmm\")\n"
   ]
  },
  {
   "cell_type": "code",
   "execution_count": null,
   "metadata": {},
   "outputs": [],
   "source": [
    "\"\"\"\n",
    "with open('X_train_scripts_dbow.pickle', 'wb') as f:\n",
    "    pickle.dump(X_train_scripts_dbow, f)\n",
    "with open('X_test_scripts_dbow.pickle', 'wb') as f:\n",
    "    pickle.dump(X_test_scripts_dbow, f)\n",
    "with open('y_train_scripts_dbow.pickle', 'wb') as f:\n",
    "    pickle.dump(y_train_scripts_dbow, f)\n",
    "with open('y_test_scripts_dbow.pickle', 'wb') as f:\n",
    "    pickle.dump(y_test_scripts_dbow, f)\n",
    "with open('X_train_scripts_dmm.pickle', 'wb') as f:\n",
    "    pickle.dump(X_train_scripts_dmm, f)\n",
    "with open('X_test_scripts_dbow.pickle', 'wb') as f:\n",
    "    pickle.dump(X_test_scripts_dmm, f)\n",
    "with open('y_train_scripts_dmm.pickle', 'wb') as f:\n",
    "    pickle.dump(y_train_scripts_dmm, f)\n",
    "with open('y_test_scripts_dmm.pickle', 'wb') as f:\n",
    "    pickle.dump(y_test_scripts_dmm, f)\"\"\""
   ]
  },
  {
   "cell_type": "code",
   "execution_count": 12,
   "metadata": {},
   "outputs": [],
   "source": [
    "X_train_scripts_dbow = pickle.load(open(\"X_train_scripts_dbow.pickle\", \"rb\"))\n",
    "X_test_scripts_dbow = pickle.load(open(\"X_test_scripts_dbow.pickle\", \"rb\"))\n",
    "y_train_scripts_dbow = pickle.load(open(\"y_train_scripts_dbow.pickle\", \"rb\"))\n",
    "y_test_scripts_dbow = pickle.load(open(\"y_test_scripts_dbow.pickle\", \"rb\"))\n",
    "\n",
    "X_train_scripts_dmm = pickle.load(open(\"X_train_scripts_dmm.pickle\", \"rb\"))\n",
    "X_test_scripts_dmm = pickle.load(open(\"X_test_scripts_dmm.pickle\", \"rb\"))\n",
    "y_train_scripts_dmm = pickle.load(open(\"y_train_scripts_dmm.pickle\", \"rb\"))\n",
    "y_test_scripts_dmm = pickle.load(open(\"y_test_scripts_dmm.pickle\", \"rb\"))"
   ]
  },
  {
   "cell_type": "markdown",
   "metadata": {},
   "source": [
    "CV with DBOW"
   ]
  },
  {
   "cell_type": "code",
   "execution_count": 32,
   "metadata": {},
   "outputs": [],
   "source": [
    "kf = StratifiedKFold(n_splits=5, shuffle=True, random_state=13)\n",
    "cv_results = []\n",
    "\n",
    "X_train = np.array(X_train_scripts_dbow)\n",
    "y_train = np.array(y_train_scripts_dbow)\n",
    "\n",
    "models = {'Random Forest': RandomForestClassifier(),\n",
    "         'SGD': SGDClassifier(),\n",
    "         'Naive Bayes': GaussianNB()}\n",
    "\n",
    "for model_name, model in models.items():\n",
    "    for train_ind,val_ind in kf.split(X_train,y_train):\n",
    "        X_tr, y_tr = X_train[train_ind], y_train[train_ind]\n",
    "        X_val, y_val = X_train[val_ind], y_train[val_ind]\n",
    "        model.fit(X_tr, y_tr)\n",
    "        y_pred = model.predict(X_val)\n",
    "        f1 = f1_score(y_val, y_pred, average='weighted')\n",
    "        cv_results.append([model_name,f1])\n",
    "\n",
    "dbow_cv_df = pd.DataFrame(cv_results)\n",
    "dbow_cv_df.columns = ['model','f1']\n",
    "\n",
    "dbow_model_grid_mean_f1 = dbow_cv_df.groupby(['model']).mean()\n",
    "dbow_model_grid_mean_f1.columns=['DBOW_f1']\n",
    "dbow_model_grid_f1_var = dbow_cv_df.groupby(['model']).var()\n",
    "dbow_model_grid_f1_var.columns=['f1_variance, no SMOTE']"
   ]
  },
  {
   "cell_type": "markdown",
   "metadata": {},
   "source": [
    "CV with DMM"
   ]
  },
  {
   "cell_type": "code",
   "execution_count": 31,
   "metadata": {},
   "outputs": [],
   "source": [
    "kf = StratifiedKFold(n_splits=5, shuffle=True, random_state=13)\n",
    "cv_results = []\n",
    "\n",
    "X_train = np.array(X_train_scripts_dmm)\n",
    "y_train = np.array(y_train_scripts_dmm)\n",
    "\n",
    "models = {'Random Forest': RandomForestClassifier(),\n",
    "         'SGD': SGDClassifier(),\n",
    "         'Naive Bayes': GaussianNB()}\n",
    "\n",
    "for model_name, model in models.items():\n",
    "    for train_ind,val_ind in kf.split(X_train,y_train):\n",
    "        X_tr, y_tr = X_train[train_ind], y_train[train_ind]\n",
    "        X_val, y_val = X_train[val_ind], y_train[val_ind]\n",
    "        model.fit(X_tr, y_tr)\n",
    "        y_pred = model.predict(X_val)\n",
    "        f1 = f1_score(y_val, y_pred, average='weighted')\n",
    "        cv_results.append([model_name,f1])\n",
    "\n",
    "dmm_cv_df = pd.DataFrame(cv_results)\n",
    "dmm_cv_df.columns = ['model','f1']\n",
    "\n",
    "dmm_model_grid_mean_f1 = dmm_cv_df.groupby(['model']).mean()\n",
    "dmm_model_grid_mean_f1.columns=['DMM_f1']\n",
    "dmm_model_grid_f1_var = dmm_cv_df.groupby(['model']).var()\n",
    "dmm_model_grid_f1_var.columns=['f1_variance, no SMOTE']"
   ]
  },
  {
   "cell_type": "code",
   "execution_count": 37,
   "metadata": {},
   "outputs": [],
   "source": [
    "dmm_models = pd.DataFrame(dmm_model_grid_mean_f1.to_records())"
   ]
  },
  {
   "cell_type": "code",
   "execution_count": 38,
   "metadata": {},
   "outputs": [],
   "source": [
    "dbow_models = pd.DataFrame(dbow_model_grid_mean_f1.to_records())"
   ]
  },
  {
   "cell_type": "markdown",
   "metadata": {},
   "source": [
    "Evaluate results to determine best algorithm."
   ]
  },
  {
   "cell_type": "code",
   "execution_count": 53,
   "metadata": {},
   "outputs": [],
   "source": [
    "model_results = pd.merge(dmm_models,dbow_models,on='model')\n",
    "model_results = (model_results.set_index('model'))"
   ]
  },
  {
   "cell_type": "code",
   "execution_count": 56,
   "metadata": {},
   "outputs": [
    {
     "data": {
      "text/html": [
       "<div>\n",
       "<style scoped>\n",
       "    .dataframe tbody tr th:only-of-type {\n",
       "        vertical-align: middle;\n",
       "    }\n",
       "\n",
       "    .dataframe tbody tr th {\n",
       "        vertical-align: top;\n",
       "    }\n",
       "\n",
       "    .dataframe thead th {\n",
       "        text-align: right;\n",
       "    }\n",
       "</style>\n",
       "<table border=\"1\" class=\"dataframe\">\n",
       "  <thead>\n",
       "    <tr style=\"text-align: right;\">\n",
       "      <th></th>\n",
       "      <th>DMM_f1</th>\n",
       "      <th>DBOW_f1</th>\n",
       "    </tr>\n",
       "    <tr>\n",
       "      <th>model</th>\n",
       "      <th></th>\n",
       "      <th></th>\n",
       "    </tr>\n",
       "  </thead>\n",
       "  <tbody>\n",
       "    <tr>\n",
       "      <th>Naive Bayes</th>\n",
       "      <td>0.934587</td>\n",
       "      <td>0.055414</td>\n",
       "    </tr>\n",
       "    <tr>\n",
       "      <th>Random Forest</th>\n",
       "      <td>0.853973</td>\n",
       "      <td>0.146217</td>\n",
       "    </tr>\n",
       "    <tr>\n",
       "      <th>SGD</th>\n",
       "      <td>0.967678</td>\n",
       "      <td>0.126421</td>\n",
       "    </tr>\n",
       "  </tbody>\n",
       "</table>\n",
       "</div>"
      ],
      "text/plain": [
       "                 DMM_f1   DBOW_f1\n",
       "model                            \n",
       "Naive Bayes    0.934587  0.055414\n",
       "Random Forest  0.853973  0.146217\n",
       "SGD            0.967678  0.126421"
      ]
     },
     "execution_count": 56,
     "metadata": {},
     "output_type": "execute_result"
    }
   ],
   "source": [
    "model_results"
   ]
  },
  {
   "cell_type": "markdown",
   "metadata": {},
   "source": [
    "Grouped bar plot to compare DMM v DBOW"
   ]
  },
  {
   "cell_type": "code",
   "execution_count": 156,
   "metadata": {},
   "outputs": [
    {
     "data": {
      "image/png": "[encoded data removed]",
      "text/plain": [
       "<Figure size 1440x1440 with 1 Axes>"
      ]
     },
     "metadata": {
      "needs_background": "light"
     },
     "output_type": "display_data"
    }
   ],
   "source": [
    "prop = fm.FontProperties(fname=fontname, size=60)\n",
    "\n",
    "plt.figure(figsize=[20,20])\n",
    "plt.tight_layout()\n",
    "barWidth = 0.25\n",
    "bars1 = model_results.DMM_f1\n",
    "bars2 = model_results.DBOW_f1\n",
    "\n",
    "r1 = np.arange(len(bars1))\n",
    "r2 = [x + barWidth for x in r1]\n",
    "\n",
    "plt.bar(r1, bars1, color='#330884', width=barWidth, edgecolor='white', label='var1')\n",
    "plt.bar(r2, bars2, color='#f43212', width=barWidth, edgecolor='white', label='var2')\n",
    "\n",
    "plt.yticks(fontproperties=prop, size=30)\n",
    "plt.ylabel(\"F1\",fontsize=40,fontproperties=prop, size=50, labelpad=80)\n",
    "#h.set_rotation(0)\n",
    "plt.box(False)\n",
    "plt.xticks([(r + barWidth/2) for r in range(len(bars1))], ['Naive\\nBayes', 'Random\\nForest', 'SGD'], size=50,fontproperties=prop);\n",
    "legendlabels = ['DM','DBOW']\n",
    "plt.legend(labels=legendlabels,prop=prop, loc='upper right', fontsize=50, frameon=False,bbox_to_anchor=[1.4, .64]),\n",
    "\n",
    "plt.savefig('fig_dmm_v_dbow.png',transparent=True,dpi=240, bbox_inches = \"tight\")"
   ]
  },
  {
   "cell_type": "code",
   "execution_count": null,
   "metadata": {},
   "outputs": [],
   "source": []
  }
 ],
 "metadata": {
  "environment": {
   "name": "common-cpu.m53",
   "type": "gcloud",
   "uri": "gcr.io/deeplearning-platform-release/base-cpu:m53"
  },
  "kernelspec": {
   "display_name": "Python 3",
   "language": "python",
   "name": "python3"
  },
  "language_info": {
   "codemirror_mode": {
    "name": "ipython",
    "version": 3
   },
   "file_extension": ".py",
   "mimetype": "text/x-python",
   "name": "python",
   "nbconvert_exporter": "python",
   "pygments_lexer": "ipython3",
   "version": "3.7.6"
  }
 },
 "nbformat": 4,
 "nbformat_minor": 4
}
