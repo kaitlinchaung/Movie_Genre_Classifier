{
 "cells": [
  {
   "cell_type": "code",
   "execution_count": 10,
   "metadata": {},
   "outputs": [],
   "source": [
    "import pandas as pd\n",
    "import numpy as np\n",
    "import re\n",
    "import seaborn as sns\n",
    "import matplotlib.pyplot as plt\n",
    "import multiprocessing\n",
    "import time\n",
    "import textwrap\n",
    "import pickle\n",
    "import scipy.stats as stats\n",
    "\n",
    "from bs4 import BeautifulSoup\n",
    "from tqdm import tqdm\n",
    "tqdm.pandas(desc=\"progress-bar\")\n",
    "from scipy import spatial\n",
    "from scipy import spatial\n",
    "\n",
    "import gensim\n",
    "from gensim.models import Doc2Vec\n",
    "from gensim.models.doc2vec import Doc2Vec, TaggedDocument\n",
    "\n",
    "from sklearn import utils\n",
    "from sklearn.utils.fixes import loguniform\n",
    "from sklearn.model_selection import train_test_split, StratifiedKFold, cross_val_score, GridSearchCV\n",
    "from sklearn.metrics import f1_score, accuracy_score, classification_report, confusion_matrix, precision_score, roc_curve,auc, recall_score\n",
    "from sklearn.linear_model import SGDClassifier, LogisticRegression\n",
    "from sklearn.tree import DecisionTreeClassifier\n",
    "from sklearn.ensemble import RandomForestRegressor, RandomForestClassifier\n",
    "from sklearn.naive_bayes import GaussianNB\n",
    "from sklearn.model_selection import RandomizedSearchCV\n",
    "\n",
    "import nltk\n",
    "from nltk.tokenize import word_tokenize\n",
    "from nltk.corpus import stopwords\n",
    "\n",
    "import multiprocessing\n",
    "cores = multiprocessing.cpu_count()\n",
    "\n",
    "fontname = 'Montserrat-Regular.ttf'"
   ]
  },
  {
   "cell_type": "markdown",
   "metadata": {},
   "source": [
    "## Determine the best model for movie genre classification"
   ]
  },
  {
   "cell_type": "markdown",
   "metadata": {},
   "source": [
    "Read in data."
   ]
  },
  {
   "cell_type": "code",
   "execution_count": 11,
   "metadata": {},
   "outputs": [],
   "source": [
    "X_train = pickle.load(open(\"X_train.pickle\", \"rb\"))\n",
    "y_train = pickle.load(open(\"y_train.pickle\", \"rb\"))\n",
    "X_test = pickle.load(open(\"X_test.pickle\", \"rb\"))\n",
    "y_test = pickle.load(open(\"y_test.pickle\", \"rb\"))"
   ]
  },
  {
   "cell_type": "markdown",
   "metadata": {},
   "source": [
    "Model grid search with CB, no SMOTE."
   ]
  },
  {
   "cell_type": "code",
   "execution_count": 12,
   "metadata": {},
   "outputs": [],
   "source": [
    "kf = StratifiedKFold(n_splits=5, shuffle=True, random_state=13)\n",
    "cv_results = []\n",
    "\n",
    "X_train = np.array(X_train)\n",
    "y_train = np.array(y_train)\n",
    "\n",
    "models = {'Random Forest': RandomForestClassifier(),\n",
    "         'SGD': SGDClassifier(),\n",
    "         'Naive Bayes': GaussianNB()}\n",
    "\n",
    "for model_name, model in models.items():\n",
    "    for train_ind,val_ind in kf.split(X_train,y_train):\n",
    "        X_tr, y_tr = X_train[train_ind], y_train[train_ind]\n",
    "        X_val, y_val = X_train[val_ind], y_train[val_ind]\n",
    "        model.fit(X_tr, y_tr)\n",
    "        y_pred = model.predict(X_val)\n",
    "        f1 = f1_score(y_val, y_pred, average='weighted')\n",
    "        cv_results.append([model_name,f1])\n",
    "\n",
    "cv_df = pd.DataFrame(cv_results)\n",
    "cv_df.columns = ['model','f1']\n",
    "\n",
    "model_grid_mean_f1 = cv_df.groupby(['model']).mean()\n",
    "model_grid_mean_f1.columns=['mean_f1_score, no SMOTE']\n",
    "model_grid_f1_var = cv_df.groupby(['model']).var()\n",
    "model_grid_f1_var.columns=['f1_variance, no SMOTE']"
   ]
  },
  {
   "cell_type": "code",
   "execution_count": 14,
   "metadata": {},
   "outputs": [
    {
     "data": {
      "text/html": [
       "<div>\n",
       "<style scoped>\n",
       "    .dataframe tbody tr th:only-of-type {\n",
       "        vertical-align: middle;\n",
       "    }\n",
       "\n",
       "    .dataframe tbody tr th {\n",
       "        vertical-align: top;\n",
       "    }\n",
       "\n",
       "    .dataframe thead th {\n",
       "        text-align: right;\n",
       "    }\n",
       "</style>\n",
       "<table border=\"1\" class=\"dataframe\">\n",
       "  <thead>\n",
       "    <tr style=\"text-align: right;\">\n",
       "      <th></th>\n",
       "      <th>mean_f1_score, no SMOTE</th>\n",
       "    </tr>\n",
       "    <tr>\n",
       "      <th>model</th>\n",
       "      <th></th>\n",
       "    </tr>\n",
       "  </thead>\n",
       "  <tbody>\n",
       "    <tr>\n",
       "      <th>Naive Bayes</th>\n",
       "      <td>0.930810</td>\n",
       "    </tr>\n",
       "    <tr>\n",
       "      <th>Random Forest</th>\n",
       "      <td>0.853293</td>\n",
       "    </tr>\n",
       "    <tr>\n",
       "      <th>SGD</th>\n",
       "      <td>0.960110</td>\n",
       "    </tr>\n",
       "  </tbody>\n",
       "</table>\n",
       "</div>"
      ],
      "text/plain": [
       "               mean_f1_score, no SMOTE\n",
       "model                                 \n",
       "Naive Bayes                   0.930810\n",
       "Random Forest                 0.853293\n",
       "SGD                           0.960110"
      ]
     },
     "execution_count": 14,
     "metadata": {},
     "output_type": "execute_result"
    }
   ],
   "source": [
    "cv_results = model_grid_mean_f1\n",
    "cv_results"
   ]
  },
  {
   "cell_type": "code",
   "execution_count": 30,
   "metadata": {},
   "outputs": [
    {
     "data": {
      "text/html": [
       "<div>\n",
       "<style scoped>\n",
       "    .dataframe tbody tr th:only-of-type {\n",
       "        vertical-align: middle;\n",
       "    }\n",
       "\n",
       "    .dataframe tbody tr th {\n",
       "        vertical-align: top;\n",
       "    }\n",
       "\n",
       "    .dataframe thead th {\n",
       "        text-align: right;\n",
       "    }\n",
       "</style>\n",
       "<table border=\"1\" class=\"dataframe\">\n",
       "  <thead>\n",
       "    <tr style=\"text-align: right;\">\n",
       "      <th></th>\n",
       "      <th>f1_variance, no SMOTE</th>\n",
       "    </tr>\n",
       "    <tr>\n",
       "      <th>model</th>\n",
       "      <th></th>\n",
       "    </tr>\n",
       "  </thead>\n",
       "  <tbody>\n",
       "    <tr>\n",
       "      <th>Naive Bayes</th>\n",
       "      <td>0.000139</td>\n",
       "    </tr>\n",
       "    <tr>\n",
       "      <th>Random Forest</th>\n",
       "      <td>0.000341</td>\n",
       "    </tr>\n",
       "    <tr>\n",
       "      <th>SGD</th>\n",
       "      <td>0.000077</td>\n",
       "    </tr>\n",
       "  </tbody>\n",
       "</table>\n",
       "</div>"
      ],
      "text/plain": [
       "               f1_variance, no SMOTE\n",
       "model                               \n",
       "Naive Bayes                 0.000139\n",
       "Random Forest               0.000341\n",
       "SGD                         0.000077"
      ]
     },
     "execution_count": 30,
     "metadata": {},
     "output_type": "execute_result"
    }
   ],
   "source": [
    "model_grid_f1_var"
   ]
  },
  {
   "cell_type": "markdown",
   "metadata": {},
   "source": [
    "Model grid search with CB, with SMOTE."
   ]
  },
  {
   "cell_type": "code",
   "execution_count": 31,
   "metadata": {},
   "outputs": [],
   "source": [
    "kf = StratifiedKFold(n_splits=5, shuffle=True, random_state=13)\n",
    "cv_results = []\n",
    "smoter = SMOTE(random_state=13)\n",
    "\n",
    "X_train = np.array(X_train)\n",
    "y_train = np.array(y_train)\n",
    "\n",
    "models = {'Random Forest': RandomForestClassifier(),\n",
    "         'SGD': SGDClassifier(),\n",
    "         'Naive Bayes': GaussianNB()}\n",
    "\n",
    "for model_name, model in models.items():\n",
    "    for train_ind,val_ind in kf.split(X_train,y_train):\n",
    "        X_tr, y_tr = X_train[train_ind], y_train[train_ind]\n",
    "        X_smote_train, y_smote_train = smoter.fit_sample(X_tr,y_tr)\n",
    "        X_val, y_val = X_train[val_ind], y_train[val_ind]\n",
    "        model.fit(X_smote_train, y_smote_train)\n",
    "        y_pred = model.predict(X_val)\n",
    "        f1 = f1_score(y_val, y_pred, average='weighted')\n",
    "        cv_results.append([model_name,f1])\n",
    "\n",
    "cv_df = pd.DataFrame(cv_results)\n",
    "cv_df.columns = ['model','f1']\n",
    "\n",
    "model_grid_mean_f1 = cv_df.groupby(['model']).mean()\n",
    "model_grid_mean_f1.columns=['mean_f1_score, SMOTE']\n",
    "model_grid_f1_var = cv_df.groupby(['model']).var()\n",
    "model_grid_f1_var.columns=['f1_variance, SMOTE']"
   ]
  },
  {
   "cell_type": "code",
   "execution_count": 32,
   "metadata": {},
   "outputs": [
    {
     "data": {
      "text/html": [
       "<div>\n",
       "<style scoped>\n",
       "    .dataframe tbody tr th:only-of-type {\n",
       "        vertical-align: middle;\n",
       "    }\n",
       "\n",
       "    .dataframe tbody tr th {\n",
       "        vertical-align: top;\n",
       "    }\n",
       "\n",
       "    .dataframe thead th {\n",
       "        text-align: right;\n",
       "    }\n",
       "</style>\n",
       "<table border=\"1\" class=\"dataframe\">\n",
       "  <thead>\n",
       "    <tr style=\"text-align: right;\">\n",
       "      <th></th>\n",
       "      <th>mean_f1_score, SMOTE</th>\n",
       "    </tr>\n",
       "    <tr>\n",
       "      <th>model</th>\n",
       "      <th></th>\n",
       "    </tr>\n",
       "  </thead>\n",
       "  <tbody>\n",
       "    <tr>\n",
       "      <th>Naive Bayes</th>\n",
       "      <td>0.894369</td>\n",
       "    </tr>\n",
       "    <tr>\n",
       "      <th>Random Forest</th>\n",
       "      <td>0.880217</td>\n",
       "    </tr>\n",
       "    <tr>\n",
       "      <th>SGD</th>\n",
       "      <td>0.965535</td>\n",
       "    </tr>\n",
       "  </tbody>\n",
       "</table>\n",
       "</div>"
      ],
      "text/plain": [
       "               mean_f1_score, SMOTE\n",
       "model                              \n",
       "Naive Bayes                0.894369\n",
       "Random Forest              0.880217\n",
       "SGD                        0.965535"
      ]
     },
     "execution_count": 32,
     "metadata": {},
     "output_type": "execute_result"
    }
   ],
   "source": [
    "model_grid_mean_f1"
   ]
  },
  {
   "cell_type": "code",
   "execution_count": 33,
   "metadata": {},
   "outputs": [
    {
     "data": {
      "text/html": [
       "<div>\n",
       "<style scoped>\n",
       "    .dataframe tbody tr th:only-of-type {\n",
       "        vertical-align: middle;\n",
       "    }\n",
       "\n",
       "    .dataframe tbody tr th {\n",
       "        vertical-align: top;\n",
       "    }\n",
       "\n",
       "    .dataframe thead th {\n",
       "        text-align: right;\n",
       "    }\n",
       "</style>\n",
       "<table border=\"1\" class=\"dataframe\">\n",
       "  <thead>\n",
       "    <tr style=\"text-align: right;\">\n",
       "      <th></th>\n",
       "      <th>f1_variance, SMOTE</th>\n",
       "    </tr>\n",
       "    <tr>\n",
       "      <th>model</th>\n",
       "      <th></th>\n",
       "    </tr>\n",
       "  </thead>\n",
       "  <tbody>\n",
       "    <tr>\n",
       "      <th>Naive Bayes</th>\n",
       "      <td>0.000659</td>\n",
       "    </tr>\n",
       "    <tr>\n",
       "      <th>Random Forest</th>\n",
       "      <td>0.000435</td>\n",
       "    </tr>\n",
       "    <tr>\n",
       "      <th>SGD</th>\n",
       "      <td>0.000024</td>\n",
       "    </tr>\n",
       "  </tbody>\n",
       "</table>\n",
       "</div>"
      ],
      "text/plain": [
       "               f1_variance, SMOTE\n",
       "model                            \n",
       "Naive Bayes              0.000659\n",
       "Random Forest            0.000435\n",
       "SGD                      0.000024"
      ]
     },
     "execution_count": 33,
     "metadata": {},
     "output_type": "execute_result"
    }
   ],
   "source": [
    "model_grid_f1_var"
   ]
  },
  {
   "cell_type": "markdown",
   "metadata": {},
   "source": [
    "Smoting training data to deal with class imbalance."
   ]
  },
  {
   "cell_type": "code",
   "execution_count": 36,
   "metadata": {},
   "outputs": [],
   "source": [
    "X_smoted, y_smoted = smoter.fit_sample(X_train,y_train)"
   ]
  },
  {
   "cell_type": "markdown",
   "metadata": {},
   "source": [
    "Fit and predict."
   ]
  },
  {
   "cell_type": "code",
   "execution_count": 128,
   "metadata": {},
   "outputs": [],
   "source": [
    "\"\"\"\n",
    "Random Forest\n",
    "\"\"\"\n",
    "rf = RandomForestClassifier(random_state=13)\n",
    "rf_smoted = RandomForestClassifier(random_state=13)\n",
    "\n",
    "rf.fit(X_train, y_train)\n",
    "rf_y_pred = rf.predict(X_test)\n",
    "\n",
    "rf_smoted.fit(X_smoted,y_smoted)\n",
    "rf_y_pred_smoted = rf_smoted.predict(X_test)\n",
    "\n",
    "\"\"\"\n",
    "SGD\n",
    "\"\"\"\n",
    "sgd = SGDClassifier(random_state=13)\n",
    "sgd_smoted = SGDClassifier(random_state=13)\n",
    "\n",
    "sgd.fit(X_train, y_train)\n",
    "sgd_y_pred = sgd.predict(X_test)\n",
    "\n",
    "sgd_smoted.fit(X_smoted,y_smoted)\n",
    "sgd_y_pred_smoted = sgd_smoted.predict(X_test)\n",
    "\n",
    "\"\"\"\n",
    "Gaussian Naive Bayes\n",
    "\"\"\"\n",
    "gnb = GaussianNB()\n",
    "gnb_smoted = GaussianNB()\n",
    "\n",
    "gnb.fit(X_train, y_train)\n",
    "gnb_y_pred = gnb.predict(X_test)\n",
    "\n",
    "gnb_smoted.fit(X_smoted,y_smoted)\n",
    "gnb_y_pred_smoted = gnb_smoted.predict(X_test)"
   ]
  },
  {
   "cell_type": "code",
   "execution_count": 127,
   "metadata": {},
   "outputs": [
    {
     "name": "stdout",
     "output_type": "stream",
     "text": [
      "Random Forest(no SMOTE), F1 Score:  0.6798029461314143\n",
      "Random Forest(SMOTE), F1 Score:  0.6940045322010807\n",
      "\n",
      "SGD(no SMOTE), F1 Score:  0.6699215117869523\n",
      "SGD(SMOTE), F1 Score:  0.6730663979769768\n",
      "\n",
      "Gausian NB(no SMOTE), F1 Score:  0.6804435550440865\n",
      "Gausian NB(SMOTE), F1 Score:  0.6656040744335247\n",
      "\n"
     ]
    }
   ],
   "source": [
    "print(\"Random Forest(no SMOTE), F1 Score: \", f1_score(y_test,rf_y_pred,average='weighted'))\n",
    "print(\"Random Forest(SMOTE), F1 Score: \", f1_score(y_test,rf_y_pred_smoted,average='weighted'))\n",
    "print(\"\")\n",
    "print(\"SGD(no SMOTE), F1 Score: \", f1_score(y_test,sgd_y_pred,average='weighted'))\n",
    "print(\"SGD(SMOTE), F1 Score: \", f1_score(y_test,sgd_y_pred_smoted,average='weighted'))\n",
    "print(\"\")\n",
    "print(\"Gausian NB(no SMOTE), F1 Score: \", f1_score(y_test,gnb_y_pred,average='weighted'))\n",
    "print(\"Gausian NB(SMOTE), F1 Score: \", f1_score(y_test,gnb_y_pred_smoted,average='weighted'))\n",
    "print(\"\")"
   ]
  },
  {
   "cell_type": "code",
   "execution_count": 129,
   "metadata": {},
   "outputs": [
    {
     "name": "stdout",
     "output_type": "stream",
     "text": [
      "Random Forest(no SMOTE), Recall Score:  0.6848484848484848\n",
      "Random Forest(SMOTE), Recall Score:  0.6954545454545454\n",
      "\n",
      "SGD(no SMOTE), Recall Score:  0.6696969696969697\n",
      "SGD(SMOTE), Recall Score:  0.6727272727272727\n",
      "\n",
      "Gausian NB(no SMOTE), Recall Score:  0.6787878787878788\n",
      "Gausian NB(SMOTE), Recall Score:  0.6681818181818182\n",
      "\n"
     ]
    }
   ],
   "source": [
    "print(\"Random Forest(no SMOTE), Recall Score: \", recall_score(y_test,rf_y_pred,average='weighted'))\n",
    "print(\"Random Forest(SMOTE), Recall Score: \", recall_score(y_test,rf_y_pred_smoted,average='weighted'))\n",
    "print(\"\")\n",
    "print(\"SGD(no SMOTE), Recall Score: \", recall_score(y_test,sgd_y_pred,average='weighted'))\n",
    "print(\"SGD(SMOTE), Recall Score: \", recall_score(y_test,sgd_y_pred_smoted,average='weighted'))\n",
    "print(\"\")\n",
    "print(\"Gausian NB(no SMOTE), Recall Score: \", recall_score(y_test,gnb_y_pred,average='weighted'))\n",
    "print(\"Gausian NB(SMOTE), Recall Score: \", recall_score(y_test,gnb_y_pred_smoted,average='weighted'))\n",
    "print(\"\")"
   ]
  },
  {
   "cell_type": "code",
   "execution_count": 130,
   "metadata": {},
   "outputs": [
    {
     "name": "stdout",
     "output_type": "stream",
     "text": [
      "Random Forest(no SMOTE), Precision Score:  0.6945032722859797\n",
      "Random Forest(SMOTE), Precision Score:  0.6985228295239654\n",
      "\n",
      "SGD(no SMOTE), Precision Score:  0.6769930028514113\n",
      "SGD(SMOTE), Precision Score:  0.6775405515539409\n",
      "\n",
      "Gausian NB(no SMOTE), Precision Score:  0.686143284328062\n",
      "Gausian NB(SMOTE), Precision Score:  0.6847384675587715\n",
      "\n"
     ]
    }
   ],
   "source": [
    "print(\"Random Forest(no SMOTE), Precision Score: \", precision_score(y_test,rf_y_pred,average='weighted'))\n",
    "print(\"Random Forest(SMOTE), Precision Score: \", precision_score(y_test,rf_y_pred_smoted,average='weighted'))\n",
    "print(\"\")\n",
    "print(\"SGD(no SMOTE), Precision Score: \", precision_score(y_test,sgd_y_pred,average='weighted'))\n",
    "print(\"SGD(SMOTE), Precision Score: \", precision_score(y_test,sgd_y_pred_smoted,average='weighted'))\n",
    "print(\"\")\n",
    "print(\"Gausian NB(no SMOTE), Precision Score: \", precision_score(y_test,gnb_y_pred,average='weighted'))\n",
    "print(\"Gausian NB(SMOTE), Precision Score: \", precision_score(y_test,gnb_y_pred_smoted,average='weighted'))\n",
    "print(\"\")"
   ]
  },
  {
   "cell_type": "markdown",
   "metadata": {},
   "source": [
    "Generate random grid for random search."
   ]
  },
  {
   "cell_type": "code",
   "execution_count": 53,
   "metadata": {},
   "outputs": [
    {
     "data": {
      "text/plain": [
       "{'n_estimators': [600, 755, 911, 1066, 1222, 1377, 1533, 1688, 1844, 2000],\n",
       " 'max_features': ['auto', 'sqrt'],\n",
       " 'max_depth': [10, 20, 30, 40, 50, 60, 70, 80, 90, 100, 110, None],\n",
       " 'min_samples_split': [2, 5, 10],\n",
       " 'min_samples_leaf': [1, 2, 4],\n",
       " 'bootstrap': [True, False]}"
      ]
     },
     "execution_count": 53,
     "metadata": {},
     "output_type": "execute_result"
    }
   ],
   "source": [
    "n_estimators = [int(x) for x in np.linspace(start = 600, stop = 2000, num = 10)]\n",
    "max_features = ['auto', 'sqrt']\n",
    "max_depth = [int(x) for x in np.linspace(10, 110, num = 11)]\n",
    "max_depth.append(None)\n",
    "min_samples_split = [2, 5, 10]\n",
    "min_samples_leaf = [1, 2, 4]\n",
    "bootstrap = [True, False]\n",
    "\n",
    "random_grid = {'n_estimators': n_estimators,\n",
    "               'max_features': max_features,\n",
    "               'max_depth': max_depth,\n",
    "               'min_samples_split': min_samples_split,\n",
    "               'min_samples_leaf': min_samples_leaf,\n",
    "               'bootstrap': bootstrap}\n",
    "random_grid"
   ]
  },
  {
   "cell_type": "markdown",
   "metadata": {},
   "source": [
    "Random search with model for grid search."
   ]
  },
  {
   "cell_type": "code",
   "execution_count": 55,
   "metadata": {
    "collapsed": true,
    "jupyter": {
     "outputs_hidden": true
    }
   },
   "outputs": [
    {
     "name": "stdout",
     "output_type": "stream",
     "text": [
      "Fitting 3 folds for each of 100 candidates, totalling 300 fits\n"
     ]
    },
    {
     "name": "stderr",
     "output_type": "stream",
     "text": [
      "[Parallel(n_jobs=-1)]: Using backend LokyBackend with 16 concurrent workers.\n",
      "[Parallel(n_jobs=-1)]: Done   9 tasks      | elapsed:  1.8min\n",
      "[Parallel(n_jobs=-1)]: Done 130 tasks      | elapsed: 14.0min\n",
      "[Parallel(n_jobs=-1)]: Done 300 out of 300 | elapsed: 30.5min finished\n"
     ]
    }
   ],
   "source": [
    "rf = RandomForestClassifier()\n",
    "rf_random = RandomizedSearchCV(estimator = rf, param_distributions = random_grid, n_iter = 100, cv = 3, verbose=2, random_state=42, n_jobs = -1)\n",
    "rf_random.fit(X_smoted, y_smoted);\n",
    "\n",
    "with open('best_random_model.pickle', 'wb') as f:\n",
    "    pickle.dump(rf_random.best_estimator_, f)"
   ]
  },
  {
   "cell_type": "markdown",
   "metadata": {},
   "source": [
    "Evaluate random search results."
   ]
  },
  {
   "cell_type": "code",
   "execution_count": 56,
   "metadata": {},
   "outputs": [
    {
     "name": "stdout",
     "output_type": "stream",
     "text": [
      "Baseline F1 score:  0.6798029461314143\n",
      "Random Search F1 score:  0.719892613107689\n",
      "\n",
      "Improvement of 5.90%.\n"
     ]
    }
   ],
   "source": [
    "base_model = RandomForestClassifier(random_state=13)\n",
    "base_model.fit(X_train,y_train)\n",
    "y_pred_base = base_model.predict(X_test)\n",
    "\n",
    "best_random = rf_random.best_estimator_\n",
    "y_pred_random = best_random.predict(X_test)\n",
    "\n",
    "print(\"Baseline F1 score: \", f1_score(y_test, y_pred_base, average='weighted'))\n",
    "print(\"Random Search F1 score: \", f1_score(y_test, y_pred_random, average='weighted'))\n",
    "print(\"\")\n",
    "print('Improvement of {:0.2f}%.'.format( 100 * (f1_score(y_test, y_pred_random, average='weighted')-f1_score(y_test, y_pred_base, average='weighted')) /f1_score(y_test, y_pred_base, average='weighted')))\n"
   ]
  },
  {
   "cell_type": "code",
   "execution_count": 58,
   "metadata": {},
   "outputs": [
    {
     "data": {
      "text/plain": [
       "{'n_estimators': 755,\n",
       " 'min_samples_split': 5,\n",
       " 'min_samples_leaf': 1,\n",
       " 'max_features': 'sqrt',\n",
       " 'max_depth': 100,\n",
       " 'bootstrap': True}"
      ]
     },
     "execution_count": 58,
     "metadata": {},
     "output_type": "execute_result"
    }
   ],
   "source": [
    "rf_random.best_params_"
   ]
  },
  {
   "cell_type": "markdown",
   "metadata": {},
   "source": [
    "Initiate grid search with best paramater values from random search."
   ]
  },
  {
   "cell_type": "code",
   "execution_count": 62,
   "metadata": {},
   "outputs": [],
   "source": [
    "params = {\n",
    "    'max_depth': [90,100,110],\n",
    "    'max_features': ['sqrt'],\n",
    "    'min_samples_leaf': [1, 2],\n",
    "    'min_samples_split': [4, 5, 6],\n",
    "    'n_estimators': [700,750,800]\n",
    "}"
   ]
  },
  {
   "cell_type": "markdown",
   "metadata": {},
   "source": [
    "Perform grid search with new params."
   ]
  },
  {
   "cell_type": "code",
   "execution_count": 64,
   "metadata": {},
   "outputs": [],
   "source": [
    "kf = StratifiedKFold(n_splits=5, shuffle=False)\n",
    "\n",
    "imba_pipeline = make_pipeline(smoter,RandomForestClassifier(random_state=13))\n",
    "\n",
    "new_params = {'randomforestclassifier__' + key: params[key] for key in params}\n",
    "grid_imba = GridSearchCV(imba_pipeline, param_grid=new_params,scoring='f1_weighted',return_train_score=True, n_jobs = -1)\n",
    "grid_imba.fit(X_train, y_train);"
   ]
  },
  {
   "cell_type": "code",
   "execution_count": 65,
   "metadata": {},
   "outputs": [],
   "source": [
    "\"\"\"with open('model_grid_imba.pickle', 'wb') as f:\n",
    "    pickle.dump(grid_imba.best_estimator_, f)\"\"\""
   ]
  },
  {
   "cell_type": "code",
   "execution_count": 67,
   "metadata": {
    "collapsed": true,
    "jupyter": {
     "outputs_hidden": true
    }
   },
   "outputs": [
    {
     "data": {
      "text/plain": [
       "{'randomforestclassifier__max_depth': 90,\n",
       " 'randomforestclassifier__max_features': 'sqrt',\n",
       " 'randomforestclassifier__min_samples_leaf': 2,\n",
       " 'randomforestclassifier__min_samples_split': 4,\n",
       " 'randomforestclassifier__n_estimators': 800}"
      ]
     },
     "execution_count": 67,
     "metadata": {},
     "output_type": "execute_result"
    }
   ],
   "source": [
    "grid_imba.best_params_"
   ]
  },
  {
   "cell_type": "markdown",
   "metadata": {},
   "source": [
    "Evaluate final grid search model."
   ]
  },
  {
   "cell_type": "code",
   "execution_count": 126,
   "metadata": {},
   "outputs": [
    {
     "name": "stdout",
     "output_type": "stream",
     "text": [
      "Precision:  0.7261301455675612\n",
      "Recall:  0.7181818181818181\n",
      "F1:  0.7172515118874844\n"
     ]
    }
   ],
   "source": [
    "model_grid = grid_imba.best_estimator_\n",
    "y_pred = model_grid.predict(X_test)\n",
    "\n",
    "precision = precision_score(y_test, y_pred, average='weighted')\n",
    "recall = recall_score(y_test, y_pred, average='weighted')\n",
    "f1 = f1_score(y_test, y_pred, average='weighted')\n",
    "\n",
    "print(\"Precision: \", precision)\n",
    "print(\"Recall: \", recall)\n",
    "print(\"F1: \", f1)"
   ]
  },
  {
   "cell_type": "markdown",
   "metadata": {},
   "source": [
    "Confusion Matrix"
   ]
  },
  {
   "cell_type": "code",
   "execution_count": 134,
   "metadata": {},
   "outputs": [],
   "source": [
    "data = pd.read_csv(\"cleaned_moviedataset.csv\")"
   ]
  },
  {
   "cell_type": "code",
   "execution_count": 167,
   "metadata": {},
   "outputs": [
    {
     "data": {
      "image/png": "[encoded data removed]",
      "text/plain": [
       "<Figure size 720x720 with 2 Axes>"
      ]
     },
     "metadata": {},
     "output_type": "display_data"
    },
    {
     "data": {
      "text/plain": [
       "<Figure size 432x288 with 0 Axes>"
      ]
     },
     "metadata": {},
     "output_type": "display_data"
    }
   ],
   "source": [
    "sns.set(font=fontname)\n",
    "conf_mat = confusion_matrix(y_test, y_pred)\n",
    "fig, ax = plt.subplots(figsize=(10,10))\n",
    "#plt.tight_layout()\n",
    "g=sns.heatmap(conf_mat, annot=True, fmt='d',\n",
    "            xticklabels=data.new_genres.unique(), yticklabels=data.new_genres.unique())\n",
    "g.set_xticklabels(rotation=30,labels=data.new_genres.unique(),size=13)\n",
    "g.set_yticklabels(labels=data.new_genres.unique(),size=13)\n",
    "plt.ylabel('Actual',size=24)\n",
    "plt.xlabel('Predicted',size=24)\n",
    "sns.set(font_scale=13)\n",
    "plt.show()\n",
    "plt.savefig('fig_conf_matrix.png',transparent=True,dpi=240, bbox_inches = \"tight\")"
   ]
  },
  {
   "cell_type": "code",
   "execution_count": null,
   "metadata": {},
   "outputs": [],
   "source": []
  }
 ],
 "metadata": {
  "environment": {
   "name": "common-cpu.m53",
   "type": "gcloud",
   "uri": "gcr.io/deeplearning-platform-release/base-cpu:m53"
  },
  "kernelspec": {
   "display_name": "Python 3",
   "language": "python",
   "name": "python3"
  },
  "language_info": {
   "codemirror_mode": {
    "name": "ipython",
    "version": 3
   },
   "file_extension": ".py",
   "mimetype": "text/x-python",
   "name": "python",
   "nbconvert_exporter": "python",
   "pygments_lexer": "ipython3",
   "version": "3.7.6"
  }
 },
 "nbformat": 4,
 "nbformat_minor": 4
}
