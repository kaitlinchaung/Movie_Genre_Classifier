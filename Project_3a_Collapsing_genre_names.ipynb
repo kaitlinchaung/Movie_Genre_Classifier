{
 "cells": [
  {
   "cell_type": "markdown",
   "metadata": {},
   "source": [
    "## Notebook to cast 405 unique dataset genres to 8 classification genres.\n"
   ]
  },
  {
   "cell_type": "code",
   "execution_count": 1,
   "metadata": {},
   "outputs": [],
   "source": [
    "import pandas as pd\n",
    "pd.set_option('display.max_rows', 500)"
   ]
  },
  {
   "cell_type": "markdown",
   "metadata": {},
   "source": [
    "Read in data and remove any NA cells.\n"
   ]
  },
  {
   "cell_type": "code",
   "execution_count": 2,
   "metadata": {},
   "outputs": [],
   "source": [
    "data = pd.read_csv(\"summarized_scripts.csv\")\n",
    "data = data[~data.summ_scripts_4.isna()]\n",
    "data = data[~data.genres.isnull()]"
   ]
  },
  {
   "cell_type": "markdown",
   "metadata": {},
   "source": [
    "Each dataset genre consists of comma-delimited strings, used to define sub-genres. Extract these strings, for downstream consolidation of sub-genres to classification genres."
   ]
  },
  {
   "cell_type": "code",
   "execution_count": 3,
   "metadata": {},
   "outputs": [],
   "source": [
    "genres = data[['genres']]"
   ]
  },
  {
   "cell_type": "code",
   "execution_count": 4,
   "metadata": {},
   "outputs": [],
   "source": [
    "split = pd.DataFrame(genres.genres.value_counts().index)[0].str.split(',',expand=True)"
   ]
  },
  {
   "cell_type": "code",
   "execution_count": 5,
   "metadata": {},
   "outputs": [],
   "source": [
    "uniques = pd.Series(split.unstack().reset_index(drop=True).unique()).str.strip().unique()"
   ]
  },
  {
   "cell_type": "code",
   "execution_count": 6,
   "metadata": {},
   "outputs": [
    {
     "data": {
      "text/plain": [
       "['Drama',\n",
       " 'Comedy',\n",
       " 'Crime',\n",
       " 'Action',\n",
       " 'Adventure',\n",
       " 'Animation',\n",
       " 'Thriller',\n",
       " 'Mystery',\n",
       " 'Horror',\n",
       " 'Western',\n",
       " 'Fantasy',\n",
       " 'Science Fiction',\n",
       " 'Romance',\n",
       " 'Music',\n",
       " 'Family',\n",
       " 'War',\n",
       " 'TV Movie']"
      ]
     },
     "execution_count": 6,
     "metadata": {},
     "output_type": "execute_result"
    }
   ],
   "source": [
    "uniques = list(uniques)\n",
    "uniques = [i for i in uniques if i]\n",
    "uniques"
   ]
  },
  {
   "cell_type": "markdown",
   "metadata": {},
   "source": [
    "Cast these strings to broader genres for consolidation."
   ]
  },
  {
   "cell_type": "code",
   "execution_count": 7,
   "metadata": {},
   "outputs": [],
   "source": [
    "new_genre = ['Drama', # Drama,\n",
    "            'Comedy', # Comedy,\n",
    "            'Action', # Crime,\n",
    "            'Action', # Action,\n",
    "            'Action', # Adventure,\n",
    "            'Other', # Animation,\n",
    "            'Action', # Thriller,\n",
    "            'Drama', # Mystery,\n",
    "            'Horror', # Horror,\n",
    "            'Action', # Western,\n",
    "            'Other', # Fantasy,\n",
    "            '', # Science Fiction,\n",
    "            '', # Music,\n",
    "            'Romance', # Romance,\n",
    "            '', # Family,\n",
    "            'Action', # War,\n",
    "            ''] # TV movie"
   ]
  },
  {
   "cell_type": "markdown",
   "metadata": {},
   "source": [
    "Create a dictionary for old and new genre strings.\n"
   ]
  },
  {
   "cell_type": "code",
   "execution_count": 12,
   "metadata": {},
   "outputs": [],
   "source": [
    "genre_dict = dict(zip(uniques, new_genre))"
   ]
  },
  {
   "cell_type": "code",
   "execution_count": 13,
   "metadata": {},
   "outputs": [
    {
     "data": {
      "text/html": [
       "<div>\n",
       "<style scoped>\n",
       "    .dataframe tbody tr th:only-of-type {\n",
       "        vertical-align: middle;\n",
       "    }\n",
       "\n",
       "    .dataframe tbody tr th {\n",
       "        vertical-align: top;\n",
       "    }\n",
       "\n",
       "    .dataframe thead th {\n",
       "        text-align: right;\n",
       "    }\n",
       "</style>\n",
       "<table border=\"1\" class=\"dataframe\">\n",
       "  <thead>\n",
       "    <tr style=\"text-align: right;\">\n",
       "      <th></th>\n",
       "      <th>old_name</th>\n",
       "      <th>new_name</th>\n",
       "    </tr>\n",
       "  </thead>\n",
       "  <tbody>\n",
       "    <tr>\n",
       "      <th>0</th>\n",
       "      <td>Drama</td>\n",
       "      <td>Drama</td>\n",
       "    </tr>\n",
       "    <tr>\n",
       "      <th>1</th>\n",
       "      <td>Comedy</td>\n",
       "      <td>Comedy</td>\n",
       "    </tr>\n",
       "    <tr>\n",
       "      <th>2</th>\n",
       "      <td>Crime</td>\n",
       "      <td>Action</td>\n",
       "    </tr>\n",
       "    <tr>\n",
       "      <th>3</th>\n",
       "      <td>Action</td>\n",
       "      <td>Action</td>\n",
       "    </tr>\n",
       "    <tr>\n",
       "      <th>4</th>\n",
       "      <td>Adventure</td>\n",
       "      <td>Action</td>\n",
       "    </tr>\n",
       "    <tr>\n",
       "      <th>5</th>\n",
       "      <td>Animation</td>\n",
       "      <td>Other</td>\n",
       "    </tr>\n",
       "    <tr>\n",
       "      <th>6</th>\n",
       "      <td>Thriller</td>\n",
       "      <td>Action</td>\n",
       "    </tr>\n",
       "    <tr>\n",
       "      <th>7</th>\n",
       "      <td>Mystery</td>\n",
       "      <td>Drama</td>\n",
       "    </tr>\n",
       "    <tr>\n",
       "      <th>8</th>\n",
       "      <td>Horror</td>\n",
       "      <td>Horror</td>\n",
       "    </tr>\n",
       "    <tr>\n",
       "      <th>9</th>\n",
       "      <td>Western</td>\n",
       "      <td>Action</td>\n",
       "    </tr>\n",
       "    <tr>\n",
       "      <th>10</th>\n",
       "      <td>Fantasy</td>\n",
       "      <td>Other</td>\n",
       "    </tr>\n",
       "    <tr>\n",
       "      <th>11</th>\n",
       "      <td>Science Fiction</td>\n",
       "      <td></td>\n",
       "    </tr>\n",
       "    <tr>\n",
       "      <th>12</th>\n",
       "      <td>Romance</td>\n",
       "      <td></td>\n",
       "    </tr>\n",
       "    <tr>\n",
       "      <th>13</th>\n",
       "      <td>Music</td>\n",
       "      <td>Romance</td>\n",
       "    </tr>\n",
       "    <tr>\n",
       "      <th>14</th>\n",
       "      <td>Family</td>\n",
       "      <td></td>\n",
       "    </tr>\n",
       "    <tr>\n",
       "      <th>15</th>\n",
       "      <td>War</td>\n",
       "      <td>Action</td>\n",
       "    </tr>\n",
       "    <tr>\n",
       "      <th>16</th>\n",
       "      <td>TV Movie</td>\n",
       "      <td></td>\n",
       "    </tr>\n",
       "  </tbody>\n",
       "</table>\n",
       "</div>"
      ],
      "text/plain": [
       "           old_name new_name\n",
       "0             Drama    Drama\n",
       "1            Comedy   Comedy\n",
       "2             Crime   Action\n",
       "3            Action   Action\n",
       "4         Adventure   Action\n",
       "5         Animation    Other\n",
       "6          Thriller   Action\n",
       "7           Mystery    Drama\n",
       "8            Horror   Horror\n",
       "9           Western   Action\n",
       "10          Fantasy    Other\n",
       "11  Science Fiction         \n",
       "12          Romance         \n",
       "13            Music  Romance\n",
       "14           Family         \n",
       "15              War   Action\n",
       "16         TV Movie         "
      ]
     },
     "execution_count": 13,
     "metadata": {},
     "output_type": "execute_result"
    }
   ],
   "source": [
    "dict_df = pd.DataFrame(genre_dict.items())\n",
    "dict_df.columns = ['old_name','new_name']\n",
    "dict_df"
   ]
  },
  {
   "cell_type": "markdown",
   "metadata": {},
   "source": [
    "Get dataset genres and split into sub-string. Then collapse genre names by converting those substrings with the genre dicitonary.\n",
    "Fill NA values with empty strings."
   ]
  },
  {
   "cell_type": "code",
   "execution_count": 31,
   "metadata": {},
   "outputs": [],
   "source": [
    "data_genres = pd.Series(genres.genres.value_counts().index).astype(str)\n",
    "data_genres_split = data_genres.str.split(',',expand=True).astype(str)\n",
    "\n",
    "columns = list(data_genres_split)\n",
    "for i in columns:\n",
    "    data_genres_split[i] = data_genres_split[i].str.strip().map(genre_dict)\n",
    "    \n",
    "mask = data_genres_split.applymap(lambda x: x is None)\n",
    "cols = data_genres_split.columns[(mask).any()]\n",
    "for col in data_genres_split[cols]:\n",
    "    data_genres_split.loc[mask[col], col] = ''\n",
    "data_genres_split = data_genres_split.fillna('')"
   ]
  },
  {
   "cell_type": "markdown",
   "metadata": {},
   "source": [
    "Create final genre name by collapsing sub-string duplicates and manually assigning primary genres."
   ]
  },
  {
   "cell_type": "code",
   "execution_count": 53,
   "metadata": {},
   "outputs": [],
   "source": [
    "new_genres = []\n",
    "rom_coms = ['Comedy Drama Romance', 'Comedy Romance']\n",
    "\n",
    "for i in data_genres_split.values.tolist():\n",
    "    dedup = []\n",
    "    [dedup.append(x) for x in i if x not in dedup]\n",
    "    new_name = [x for x in dedup if x]\n",
    "    new_name.sort()\n",
    "    final_name = \" \".join(new_name)\n",
    "    if final_name == '':\n",
    "        casted_name = 'Other'\n",
    "    elif 'Horror' in final_name:\n",
    "        casted_name = 'Action Drama'\n",
    "    elif 'Romance' in final_name:\n",
    "        casted_name = 'Romance'\n",
    "    elif 'Action Comedy' in final_name:\n",
    "        casted_name = 'Action Comedy'\n",
    "    elif final_name == 'Other':\n",
    "        casted_name = 'Other'\n",
    "    elif 'Other' in final_name:\n",
    "        casted_name = final_name.replace('Other','').strip()\n",
    "    else:\n",
    "        casted_name = final_name\n",
    "    new_genres.append(casted_name)"
   ]
  },
  {
   "cell_type": "markdown",
   "metadata": {},
   "source": [
    "Create dictionary to map classification genres to dataset genres."
   ]
  },
  {
   "cell_type": "code",
   "execution_count": 74,
   "metadata": {},
   "outputs": [],
   "source": [
    "final_genre_dict = dict(zip(data_genres, new_genres))"
   ]
  },
  {
   "cell_type": "markdown",
   "metadata": {},
   "source": [
    "Map final dictionary to original dataset.\n"
   ]
  },
  {
   "cell_type": "code",
   "execution_count": 75,
   "metadata": {},
   "outputs": [],
   "source": [
    "original_data = pd.read_csv(\"moviedataset.csv\")"
   ]
  },
  {
   "cell_type": "code",
   "execution_count": 76,
   "metadata": {},
   "outputs": [],
   "source": [
    "original_data = original_data[~original_data.Scripts.isna()]\n",
    "original_data = original_data[~original_data.genres.isna()]"
   ]
  },
  {
   "cell_type": "code",
   "execution_count": 77,
   "metadata": {},
   "outputs": [],
   "source": [
    "original_data['new_genres'] = original_data.genres.map(final_genre_dict)"
   ]
  },
  {
   "cell_type": "code",
   "execution_count": 78,
   "metadata": {},
   "outputs": [
    {
     "data": {
      "text/plain": [
       "Action Drama     879\n",
       "Drama            511\n",
       "Action           497\n",
       "Comedy           482\n",
       "Action Comedy    435\n",
       "Comedy Drama     410\n",
       "Romance           85\n",
       "Other             33\n",
       "Name: new_genres, dtype: int64"
      ]
     },
     "execution_count": 78,
     "metadata": {},
     "output_type": "execute_result"
    }
   ],
   "source": [
    "original_data.new_genres.value_counts()"
   ]
  },
  {
   "cell_type": "code",
   "execution_count": null,
   "metadata": {},
   "outputs": [],
   "source": [
    "final_df = original_data[['movie title','genres','Scripts','new_genres']]\n",
    "final_df[final_df.new_genres.isna()] = 'Comedy'\n",
    "final_df = final_df[final_df.new_genres != 'Other']"
   ]
  },
  {
   "cell_type": "code",
   "execution_count": 136,
   "metadata": {},
   "outputs": [
    {
     "data": {
      "text/html": [
       "<div>\n",
       "<style scoped>\n",
       "    .dataframe tbody tr th:only-of-type {\n",
       "        vertical-align: middle;\n",
       "    }\n",
       "\n",
       "    .dataframe tbody tr th {\n",
       "        vertical-align: top;\n",
       "    }\n",
       "\n",
       "    .dataframe thead th {\n",
       "        text-align: right;\n",
       "    }\n",
       "</style>\n",
       "<table border=\"1\" class=\"dataframe\">\n",
       "  <thead>\n",
       "    <tr style=\"text-align: right;\">\n",
       "      <th></th>\n",
       "      <th>movie title</th>\n",
       "      <th>genres</th>\n",
       "      <th>Scripts</th>\n",
       "      <th>new_genres</th>\n",
       "    </tr>\n",
       "  </thead>\n",
       "  <tbody>\n",
       "    <tr>\n",
       "      <th>0</th>\n",
       "      <td>The Hours</td>\n",
       "      <td>Drama</td>\n",
       "      <td>Dearest, I feel certain that I am going mad ag...</td>\n",
       "      <td>Drama</td>\n",
       "    </tr>\n",
       "    <tr>\n",
       "      <th>1</th>\n",
       "      <td>A.I. Artificial Intelligence</td>\n",
       "      <td>Adventure, Drama, Science Fiction</td>\n",
       "      <td>Al That was when the icecaps had melted becaus...</td>\n",
       "      <td>Action Drama</td>\n",
       "    </tr>\n",
       "    <tr>\n",
       "      <th>2</th>\n",
       "      <td>The Bridges of Madison County</td>\n",
       "      <td>Drama, Romance</td>\n",
       "      <td>- MICHAEL: Hi, sis. - CAROLYN: Hey. - CAROLYN:...</td>\n",
       "      <td>Drama</td>\n",
       "    </tr>\n",
       "    <tr>\n",
       "      <th>3</th>\n",
       "      <td>The Devil Wears Prada</td>\n",
       "      <td>Comedy, Drama, Romance</td>\n",
       "      <td>Good luck. Hi. Uh, I have an appointment with ...</td>\n",
       "      <td>Comedy Drama</td>\n",
       "    </tr>\n",
       "    <tr>\n",
       "      <th>4</th>\n",
       "      <td>The House of the Spirits</td>\n",
       "      <td>Drama, Romance</td>\n",
       "      <td>THE HOUSE OF THE SPIRITS. It’s good to be back...</td>\n",
       "      <td>Drama</td>\n",
       "    </tr>\n",
       "    <tr>\n",
       "      <th>...</th>\n",
       "      <td>...</td>\n",
       "      <td>...</td>\n",
       "      <td>...</td>\n",
       "      <td>...</td>\n",
       "    </tr>\n",
       "    <tr>\n",
       "      <th>3909</th>\n",
       "      <td>Daddy's Home 2</td>\n",
       "      <td>Comedy</td>\n",
       "      <td>Subtitles by &lt;font color=\"#ff0000\"&gt;explosivesk...</td>\n",
       "      <td>Comedy</td>\n",
       "    </tr>\n",
       "    <tr>\n",
       "      <th>3910</th>\n",
       "      <td>Curious George</td>\n",
       "      <td>Adventure, Animation, Comedy, Family</td>\n",
       "      <td>Play one of the best new FPS shooters, search ...</td>\n",
       "      <td>Action Comedy</td>\n",
       "    </tr>\n",
       "    <tr>\n",
       "      <th>3911</th>\n",
       "      <td>The House</td>\n",
       "      <td>Comedy</td>\n",
       "      <td>♪ Open up the champagne, pop! ♪ It's my house,...</td>\n",
       "      <td>Comedy</td>\n",
       "    </tr>\n",
       "    <tr>\n",
       "      <th>3913</th>\n",
       "      <td>Drowning Mona</td>\n",
       "      <td>Comedy, Crime, Mystery</td>\n",
       "      <td>Shit. I see. Is that right? Well, have you eve...</td>\n",
       "      <td>Action Comedy</td>\n",
       "    </tr>\n",
       "    <tr>\n",
       "      <th>3921</th>\n",
       "      <td>Boat Trip</td>\n",
       "      <td>Comedy</td>\n",
       "      <td>Sol Kyung-Gu Moon So-Ri Kim Yeo-Jin Written an...</td>\n",
       "      <td>Comedy</td>\n",
       "    </tr>\n",
       "  </tbody>\n",
       "</table>\n",
       "<p>3300 rows × 4 columns</p>\n",
       "</div>"
      ],
      "text/plain": [
       "                        movie title                                genres  \\\n",
       "0                         The Hours                                 Drama   \n",
       "1      A.I. Artificial Intelligence     Adventure, Drama, Science Fiction   \n",
       "2     The Bridges of Madison County                        Drama, Romance   \n",
       "3             The Devil Wears Prada                Comedy, Drama, Romance   \n",
       "4          The House of the Spirits                        Drama, Romance   \n",
       "...                             ...                                   ...   \n",
       "3909                 Daddy's Home 2                                Comedy   \n",
       "3910                 Curious George  Adventure, Animation, Comedy, Family   \n",
       "3911                      The House                                Comedy   \n",
       "3913                  Drowning Mona                Comedy, Crime, Mystery   \n",
       "3921                      Boat Trip                                Comedy   \n",
       "\n",
       "                                                Scripts     new_genres  \n",
       "0     Dearest, I feel certain that I am going mad ag...          Drama  \n",
       "1     Al That was when the icecaps had melted becaus...   Action Drama  \n",
       "2     - MICHAEL: Hi, sis. - CAROLYN: Hey. - CAROLYN:...          Drama  \n",
       "3     Good luck. Hi. Uh, I have an appointment with ...   Comedy Drama  \n",
       "4     THE HOUSE OF THE SPIRITS. It’s good to be back...          Drama  \n",
       "...                                                 ...            ...  \n",
       "3909  Subtitles by <font color=\"#ff0000\">explosivesk...         Comedy  \n",
       "3910  Play one of the best new FPS shooters, search ...  Action Comedy  \n",
       "3911  ♪ Open up the champagne, pop! ♪ It's my house,...         Comedy  \n",
       "3913  Shit. I see. Is that right? Well, have you eve...  Action Comedy  \n",
       "3921  Sol Kyung-Gu Moon So-Ri Kim Yeo-Jin Written an...         Comedy  \n",
       "\n",
       "[3300 rows x 4 columns]"
      ]
     },
     "execution_count": 136,
     "metadata": {},
     "output_type": "execute_result"
    }
   ],
   "source": [
    "final_df"
   ]
  },
  {
   "cell_type": "code",
   "execution_count": 137,
   "metadata": {},
   "outputs": [],
   "source": [
    "#working file\n",
    "final_df.to_csv(\"cleaned_moviedataset.csv\",index=False)"
   ]
  },
  {
   "cell_type": "markdown",
   "metadata": {},
   "source": [
    "Plotting"
   ]
  },
  {
   "cell_type": "code",
   "execution_count": 19,
   "metadata": {},
   "outputs": [
    {
     "data": {
      "image/png": "[encoded data removed]",
      "text/plain": [
       "<Figure size 1440x1440 with 1 Axes>"
      ]
     },
     "metadata": {
      "needs_background": "light"
     },
     "output_type": "display_data"
    }
   ],
   "source": [
    "from matplotlib import font_manager as fm\n",
    "import matplotlib.pyplot as plt\n",
    "import numpy as np \n",
    "\n",
    "font = 'Montserrat-Regular.ttf'\n",
    "data = pd.read_csv(\"cleaned_moviedataset.csv\")\n",
    "\n",
    "genre_dist = pd.DataFrame(data.new_genres.value_counts())\n",
    "genre_dist\n",
    "\n",
    "prop = fm.FontProperties(fname=font, size=35)\n",
    "plt.figure(figsize=[20,20])\n",
    "\n",
    "ind = np.arange(len(genre_dist))[::-1]\n",
    "labels = ['Action Drama',\n",
    "          'Drama',\n",
    "          'Action',\n",
    "          'Comedy',\n",
    "          'Action Comedy',\n",
    "          'Comedy Drama',\n",
    "          'Romance']\n",
    "plt.tight_layout()\n",
    "\n",
    "plt.barh(genre_dist.index[::-1],genre_dist.new_genres[::-1],color='#330884')\n",
    "plt.xticks([]);\n",
    "plt.yticks(ind,labels=labels, fontproperties=prop, size=50, color='#190937')\n",
    "\n",
    "plt.box(False)\n",
    "plt.savefig('fig_genre_dist.png',transparent=True,dpi=250, bbox_inches = \"tight\")"
   ]
  }
 ],
 "metadata": {
  "environment": {
   "name": "common-cpu.m53",
   "type": "gcloud",
   "uri": "gcr.io/deeplearning-platform-release/base-cpu:m53"
  },
  "kernelspec": {
   "display_name": "Python 3",
   "language": "python",
   "name": "python3"
  },
  "language_info": {
   "codemirror_mode": {
    "name": "ipython",
    "version": 3
   },
   "file_extension": ".py",
   "mimetype": "text/x-python",
   "name": "python",
   "nbconvert_exporter": "python",
   "pygments_lexer": "ipython3",
   "version": "3.7.6"
  }
 },
 "nbformat": 4,
 "nbformat_minor": 4
}
